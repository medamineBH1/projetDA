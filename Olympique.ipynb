{
 "cells": [
  {
   "cell_type": "markdown",
   "metadata": {},
   "source": [
    " <h1>OLYMPIC GAMES<h1>\n",
    "\n",
    "![img](Images/jo.jpeg)\n",
    "\n",
    "### In this dataset we take a look on the legacy of the olympique games from Athens 1896 to Rio 2016"
   ]
  },
  {
   "cell_type": "markdown",
   "metadata": {},
   "source": [
    "## Presentation\n",
    "\n",
    "In this dataset we will jump into the participation ceveral athletes and their nations in every \n",
    "tournament from all the olympic events \n",
    "\n",
    " * which year and city did the Netherlands win the highest number of medals in their history.\n",
    " * visualizing the relationship between the number of athletes countries send to an event and the number of     medals they receive.\n",
    " * which sports does the height of an athlete increase their chances of earning a medal. "
   ]
  },
  {
   "cell_type": "markdown",
   "metadata": {},
   "source": [
    "## Loading Data\n",
    "\n",
    "Getting data on the olympic games athletes from the csv file"
   ]
  },
  {
   "cell_type": "code",
   "execution_count": 1,
   "metadata": {},
   "outputs": [],
   "source": [
    "import pandas as pd\n",
    "import numpy as np\n",
    "\n"
   ]
  },
  {
   "cell_type": "code",
   "execution_count": 2,
   "metadata": {},
   "outputs": [
    {
     "name": "stdout",
     "output_type": "stream",
     "text": [
      "            id                      name sex   age  height  weight  \\\n",
      "0            1                 A Dijiang   M  24.0   180.0    80.0   \n",
      "1            2                  A Lamusi   M  23.0   170.0    60.0   \n",
      "2            3       Gunnar Nielsen Aaby   M  24.0     NaN     NaN   \n",
      "3            4      Edgar Lindenau Aabye   M  34.0     NaN     NaN   \n",
      "4            5  Christine Jacoba Aaftink   F  21.0   185.0    82.0   \n",
      "...        ...                       ...  ..   ...     ...     ...   \n",
      "271111  135569                Andrzej ya   M  29.0   179.0    89.0   \n",
      "271112  135570                  Piotr ya   M  27.0   176.0    59.0   \n",
      "271113  135570                  Piotr ya   M  27.0   176.0    59.0   \n",
      "271114  135571        Tomasz Ireneusz ya   M  30.0   185.0    96.0   \n",
      "271115  135571        Tomasz Ireneusz ya   M  34.0   185.0    96.0   \n",
      "\n",
      "                  team  noc        games  year  season            city  \\\n",
      "0                China  CHN  1992 Summer  1992  Summer       Barcelona   \n",
      "1                China  CHN  2012 Summer  2012  Summer          London   \n",
      "2              Denmark  DEN  1920 Summer  1920  Summer       Antwerpen   \n",
      "3       Denmark/Sweden  DEN  1900 Summer  1900  Summer           Paris   \n",
      "4          Netherlands  NED  1988 Winter  1988  Winter         Calgary   \n",
      "...                ...  ...          ...   ...     ...             ...   \n",
      "271111        Poland-1  POL  1976 Winter  1976  Winter       Innsbruck   \n",
      "271112          Poland  POL  2014 Winter  2014  Winter           Sochi   \n",
      "271113          Poland  POL  2014 Winter  2014  Winter           Sochi   \n",
      "271114          Poland  POL  1998 Winter  1998  Winter          Nagano   \n",
      "271115          Poland  POL  2002 Winter  2002  Winter  Salt Lake City   \n",
      "\n",
      "                sport                                     event medal  \n",
      "0          Basketball               Basketball Men's Basketball   NaN  \n",
      "1                Judo              Judo Men's Extra-Lightweight   NaN  \n",
      "2            Football                   Football Men's Football   NaN  \n",
      "3          Tug-Of-War               Tug-Of-War Men's Tug-Of-War  Gold  \n",
      "4       Speed Skating          Speed Skating Women's 500 metres   NaN  \n",
      "...               ...                                       ...   ...  \n",
      "271111           Luge                Luge Mixed (Men)'s Doubles   NaN  \n",
      "271112    Ski Jumping  Ski Jumping Men's Large Hill, Individual   NaN  \n",
      "271113    Ski Jumping        Ski Jumping Men's Large Hill, Team   NaN  \n",
      "271114      Bobsleigh                      Bobsleigh Men's Four   NaN  \n",
      "271115      Bobsleigh                      Bobsleigh Men's Four   NaN  \n",
      "\n",
      "[271116 rows x 15 columns]\n"
     ]
    }
   ],
   "source": [
    "data = pd.read_csv(\"Data/athlete_events.csv\")\n",
    "print(data)"
   ]
  },
  {
   "cell_type": "markdown",
   "metadata": {},
   "source": [
    "* We'll take the Netherlands as an example"
   ]
  },
  {
   "cell_type": "code",
   "execution_count": 4,
   "metadata": {},
   "outputs": [
    {
     "name": "stdout",
     "output_type": "stream",
     "text": [
      "            id                      name sex   age  height  weight  \\\n",
      "4            5  Christine Jacoba Aaftink   F  21.0   185.0    82.0   \n",
      "5            5  Christine Jacoba Aaftink   F  21.0   185.0    82.0   \n",
      "6            5  Christine Jacoba Aaftink   F  25.0   185.0    82.0   \n",
      "7            5  Christine Jacoba Aaftink   F  25.0   185.0    82.0   \n",
      "8            5  Christine Jacoba Aaftink   F  27.0   185.0    82.0   \n",
      "...        ...                       ...  ..   ...     ...     ...   \n",
      "271047  135545           Henk Jan Zwolle   M  23.0   197.0    93.0   \n",
      "271048  135545           Henk Jan Zwolle   M  27.0   197.0    93.0   \n",
      "271049  135545           Henk Jan Zwolle   M  31.0   197.0    93.0   \n",
      "271050  135546    Sandra Kornelia Zwolle   F  26.0   174.0    65.0   \n",
      "271051  135546    Sandra Kornelia Zwolle   F  26.0   174.0    65.0   \n",
      "\n",
      "               team  noc        games  year  season         city  \\\n",
      "4       Netherlands  NED  1988 Winter  1988  Winter      Calgary   \n",
      "5       Netherlands  NED  1988 Winter  1988  Winter      Calgary   \n",
      "6       Netherlands  NED  1992 Winter  1992  Winter  Albertville   \n",
      "7       Netherlands  NED  1992 Winter  1992  Winter  Albertville   \n",
      "8       Netherlands  NED  1994 Winter  1994  Winter  Lillehammer   \n",
      "...             ...  ...          ...   ...     ...          ...   \n",
      "271047  Netherlands  NED  1988 Summer  1988  Summer        Seoul   \n",
      "271048  Netherlands  NED  1992 Summer  1992  Summer    Barcelona   \n",
      "271049  Netherlands  NED  1996 Summer  1996  Summer      Atlanta   \n",
      "271050  Netherlands  NED  1998 Winter  1998  Winter       Nagano   \n",
      "271051  Netherlands  NED  1998 Winter  1998  Winter       Nagano   \n",
      "\n",
      "                sport                               event   medal  \n",
      "4       Speed Skating    Speed Skating Women's 500 metres     NaN  \n",
      "5       Speed Skating  Speed Skating Women's 1,000 metres     NaN  \n",
      "6       Speed Skating    Speed Skating Women's 500 metres     NaN  \n",
      "7       Speed Skating  Speed Skating Women's 1,000 metres     NaN  \n",
      "8       Speed Skating    Speed Skating Women's 500 metres     NaN  \n",
      "...               ...                                 ...     ...  \n",
      "271047         Rowing          Rowing Men's Single Sculls     NaN  \n",
      "271048         Rowing          Rowing Men's Double Sculls  Bronze  \n",
      "271049         Rowing           Rowing Men's Coxed Eights    Gold  \n",
      "271050  Speed Skating    Speed Skating Women's 500 metres     NaN  \n",
      "271051  Speed Skating  Speed Skating Women's 1,000 metres     NaN  \n",
      "\n",
      "[5718 rows x 15 columns]\n"
     ]
    }
   ],
   "source": [
    "netherland_data = data[data['team'] == 'Netherlands']\n",
    "print(netherland_data)"
   ]
  },
  {
   "cell_type": "code",
   "execution_count": 5,
   "metadata": {},
   "outputs": [
    {
     "name": "stdout",
     "output_type": "stream",
     "text": [
      "year  city                  \n",
      "1900  Paris                      6\n",
      "1906  Athina                     6\n",
      "1908  London                    12\n",
      "1912  Stockholm                 26\n",
      "1920  Antwerpen                 42\n",
      "1924  Paris                     24\n",
      "1928  Amsterdam                 51\n",
      "      Sankt Moritz               0\n",
      "1932  Los Angeles               13\n",
      "1936  Berlin                    34\n",
      "      Garmisch-Partenkirchen     0\n",
      "1948  London                    40\n",
      "      Sankt Moritz               0\n",
      "1952  Helsinki                  18\n",
      "      Oslo                       3\n",
      "1956  Cortina d'Ampezzo          0\n",
      "      Stockholm                  0\n",
      "1960  Roma                       3\n",
      "      Squaw Valley               2\n",
      "1964  Innsbruck                  2\n",
      "      Tokyo                     31\n",
      "1968  Grenoble                   9\n",
      "      Mexico City               14\n",
      "1972  Munich                     6\n",
      "      Sapporo                    9\n",
      "1976  Innsbruck                  6\n",
      "      Montreal                  14\n",
      "1980  Lake Placid                4\n",
      "      Moskva                     6\n",
      "1984  Los Angeles               41\n",
      "      Sarajevo                   0\n",
      "1988  Calgary                    7\n",
      "      Seoul                     45\n",
      "1992  Albertville                4\n",
      "      Barcelona                 33\n",
      "1994  Lillehammer                4\n",
      "1996  Atlanta                   73\n",
      "1998  Nagano                    11\n",
      "2000  Sydney                    79\n",
      "2002  Salt Lake City             8\n",
      "2004  Athina                    77\n",
      "2006  Torino                    13\n",
      "2008  Beijing                   58\n",
      "2010  Vancouver                 11\n",
      "2012  London                    69\n",
      "2014  Sochi                     29\n",
      "2016  Rio de Janeiro            45\n",
      "Name: medal, dtype: int64\n"
     ]
    }
   ],
   "source": [
    "medals_won_each_year_and_city = netherland_data.groupby(['year','city'])['medal'].count()\n",
    "print(medals_won_each_year_and_city)"
   ]
  },
  {
   "cell_type": "code",
   "execution_count": null,
   "metadata": {},
   "outputs": [],
   "source": []
  }
 ],
 "metadata": {
  "kernelspec": {
   "display_name": "Python 3.10.1 64-bit",
   "language": "python",
   "name": "python3"
  },
  "language_info": {
   "codemirror_mode": {
    "name": "ipython",
    "version": 3
   },
   "file_extension": ".py",
   "mimetype": "text/x-python",
   "name": "python",
   "nbconvert_exporter": "python",
   "pygments_lexer": "ipython3",
   "version": "3.10.1"
  },
  "orig_nbformat": 4,
  "vscode": {
   "interpreter": {
    "hash": "469337ea6c96038fe047b3df58f26b63c8fd77a6d193e05296a05ecaf40ecba0"
   }
  }
 },
 "nbformat": 4,
 "nbformat_minor": 2
}
